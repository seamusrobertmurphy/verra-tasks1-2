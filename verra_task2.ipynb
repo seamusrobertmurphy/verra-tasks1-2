{
  "cells": [
    {
      "cell_type": "markdown",
      "metadata": {
        "id": "view-in-github",
        "colab_type": "text"
      },
      "source": [
        "<a href=\"https://colab.research.google.com/github/seamusrobertmurphy/verra-tasks1-2/blob/main/verra_task2.ipynb\" target=\"_parent\"><img src=\"https://colab.research.google.com/assets/colab-badge.svg\" alt=\"Open In Colab\"/></a>"
      ]
    },
    {
      "cell_type": "markdown",
      "source": [
        "# **Task 2:** Prototype Tool for Mapping Wildfires Using the NASA-FIRMS and Earth-Engine API's\n",
        "\n",
        "## Verra Technology Solutions Job-Inteview-Technical-Exercise"
      ],
      "metadata": {
        "id": "pJ3h2wejgUz4"
      },
      "id": "pJ3h2wejgUz4"
    },
    {
      "cell_type": "markdown",
      "source": [
        " # Introduction:\n",
        " The following script was developed for submission of Task 2 assignment during  employment interview process with Verra Technicial Solutions Team. Task 2 objectives called for development of a digital tool used to assess NASA's Fire Information for Resource Management System (FIRMS) API for available fire alerts.\n",
        "\n",
        " Suggested programming languages were cited including Google-Earth-Engine commands written in either JavaScript or Python. This allowed use of the Google Colab environment, preferred for its sharing and notation tools, and the pre-installed earth-engine library and python3 version, as shown in image below.\n",
        "\n",
        "*   Note, fewer problems are encountered during notebook setup and package installations if run from chrome browser.*\n",
        "\n",
        "\n",
        "**Figure 1.** Screenshot of local Colab environment\n",
        "\n",
        " ![python-version.png](data:image/png;base64,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)\n",
        "\n",
        "\n",
        "File storage was implemented using the project's public github repository located [here](https://github.com/seamusrobertmurphy/verra-tasks1-2). This respository also stores all data inputs and ouputs from the Task 1 assignment. Since this current notebook was built and hosted on the Colab platform, the repository's version control was instead used in the virtual environment setup of Task 1 tool. Iterations and code edits were committed using Colab-Git widget to enable review of the pipeline's history. Finaly, a mastercopy of this Colab notebook was stored here in its original working directory that is hosted in a personal google drive folder. This was done to allow for quick sharing and secure deploys using the google network.\n"
      ],
      "metadata": {
        "id": "sKfcM42N5EXM"
      },
      "id": "sKfcM42N5EXM"
    },
    {
      "cell_type": "markdown",
      "source": [
        "To help the user navigate the workflow, the following list of summary steps was drawn from the task's outline document and then reinterpreted after several inital attempts in testing the tool:        \n",
        "\n",
        "1.   Setup GEE environment\n",
        "2.   Mount user's google drive\n",
        "3.   Import AOI file of **Spatial Boundary**\n",
        "4.   Import FIRMS & filter by **Temporal Range**\n",
        "5.   Map filtered layers over AOI window\n",
        "6.   Set up **Fire Alerts** showing real-time wildfires\n",
        "7.   Add option for downloading result rasters\n",
        "\n",
        "\n",
        "\n",
        "Expect the following code chunk to promt user to authenticate their google-earth-engine account, derive a private token, and paste token into the the in-line box that appears. Follow instructions and links off-page to complete setup.  "
      ],
      "metadata": {
        "id": "1emgpB5CGUP6"
      },
      "id": "1emgpB5CGUP6"
    },
    {
      "cell_type": "code",
      "source": [
        "!pip install leafmap geemap geopandas\n",
        "ee.Authenticate()\n",
        "ee.Initialize()\n",
        "\n",
        "import ee, json, geemap, ipyleaflet, os\n",
        "from google.colab import drive\n",
        "from google.colab import files\n",
        "!drive.mount('/content/drive')"
      ],
      "metadata": {
        "id": "8MIGUKfTznMD"
      },
      "id": "8MIGUKfTznMD",
      "execution_count": null,
      "outputs": []
    },
    {
      "cell_type": "markdown",
      "source": [
        "\n",
        "# 1.1 Data Sources:\n",
        "\n",
        "Data was sourced from the earth engine (ee) library and imported as a `FeatureCollection` data object using its ee-assighned label 'FIRMS'. Information regaring the dataset's structure, variable labels, and values are stored here in the [Earth Engine Collection Warehouse](https://developers.google.com/earth-engine/datasets/catalog/FIRMS). Hit the 'citation' tab to reveal variable information.  \n",
        "\n",
        "This 'FIRMS' comprises the same wildfire data used in the FIRMS digital platform as its passed through API to API to provide estimates of Near-Real-Time locations of active fires that are  captured, processed, and published on a rolling basis every 3 to 5 five hours from moment of observation at satellite. Note that the NRT dataset is derived from MODIS sensor data that is initally captured at a gridded resolution of 250m2 from the Terra and Aqua satellites and then processed, analyzed and redistributed at a resolution of 1km2 by the LANCE data processing house.\n",
        "\n",
        "In addition to [NRT](https://www.earthdata.nasa.gov/learn/find-data/near-real-time)-FIRMS data, the LANCE workdesk also produces a Ultra-Real-Time [URT-FIRMS](https://www.earthdata.nasa.gov/learn/articles/firms-urt-data) dataset using automated algorithms and satellite connection netowrks to broadcast live streams of processed spectral signatures monitoring is part of the  rolling basis as the Lance . Image processing  processing is derived by passing through  directly from NASA's Lance processing desk throughAPI as\n",
        "for scanning wildfire fooprints and reqreiving alerts of active fires within defined area of interest (AOI) using Google Earth Engine Collections, leafmap tools, and NASA-FIRMS APIs. Active fire layers NASA-processed indices from VIIRS and MODIS real-time satellites.\n",
        "\n"
      ],
      "metadata": {
        "id": "d1_zzalCwX_N"
      },
      "id": "d1_zzalCwX_N"
    },
    {
      "cell_type": "markdown",
      "source": [
        "# 1.2 Tidy Data\n",
        "\n",
        "The geospatial data package `geopandas` can be used in importing, reviewing, reprojecting, and assigning coordinate reference systems to user's area-of-interest (AOI) files.\n",
        "\n",
        "There are three methods for importing data that appeared more user-friendly than others. There is the simple 'drag and drop' method or the use of 'file upload' table in top left, which lands the files into Drive's root directory. From there, the simple file path and file extension can be entered as follows.\n",
        "\n",
        "Alternatively, we can prompt the user to upload files interactively using the function below that is now commented out as `uploaded = files.upload()`. For this function to work, the user's personal drive must be mounted to the notebook's environment directory by running the command `!drive.mount('/content/drive')` as has been prepared above.  \n"
      ],
      "metadata": {
        "id": "dYqEpzyvEC16"
      },
      "id": "dYqEpzyvEC16"
    },
    {
      "cell_type": "code",
      "execution_count": 39,
      "id": "5a52d00d",
      "metadata": {
        "id": "5a52d00d",
        "colab": {
          "base_uri": "https://localhost:8080/",
          "height": 621,
          "referenced_widgets": [
            "c47be7440a0145369d69871fb83d8dc0",
            "2104c69e674c4e389d3cd724fe5c9b9c",
            "266c0f5379aa4cf8a011df3541bad7f0",
            "b861bd93928d41fc933ced2323b736bc",
            "ea9dde17a02547cf8e372f3a31fb4325",
            "d65db69731f140cea3a90ccd41cce982",
            "c70d6908cace4e799650979490163341",
            "d7fc926df2204ed987e729612e9d0de2",
            "776c79ed82994bbebc280a3bb0761532",
            "8f30428d5aa2486990404ff94127500d",
            "6c864cd2ac504ec2a5889f5fe643f539",
            "5b21407a4814461b95e563e170b3b20d",
            "aa02fa673c204bea95ac391427771387",
            "20d0b399ee124bc38d90fdad054a9085",
            "a899559ebf8c40aba8c0441a90f19456",
            "12c83f342d9249cea54bea7808e44fad",
            "6bd4386f43384ccb95185319f93e2390",
            "b118cda50e0c49d78ec560bea727c010",
            "54a28d62adc448898792f818319944d2",
            "4bc6b90dee6e412bb30457b5438f9946",
            "be98e7ba5e944b389aa952ab77468993",
            "de1f33b912a647e593e9d092ee3a910b",
            "88c3be8d7778424cb1575568ebc45c4c",
            "8d77060f61ef40efb91fd79ef5d7467f",
            "51d2ad4b7d074dc6a717cf53831542c1",
            "8c1ce618182f4deaa918481689b38425",
            "906a999d2a084b31b2581a24b1890899"
          ]
        },
        "outputId": "73abe5e9-fbbc-4674-f2be-324147ca6a27"
      },
      "outputs": [
        {
          "output_type": "display_data",
          "data": {
            "text/plain": [
              "<IPython.core.display.HTML object>"
            ],
            "text/html": [
              "\n",
              "            <style>\n",
              "                .geemap-dark {\n",
              "                    --jp-widgets-color: white;\n",
              "                    --jp-widgets-label-color: white;\n",
              "                    --jp-ui-font-color1: white;\n",
              "                    --jp-layout-color2: #454545;\n",
              "                    background-color: #383838;\n",
              "                }\n",
              "                    \n",
              "                .geemap-dark .jupyter-button {\n",
              "                    --jp-layout-color3: #383838;\n",
              "                }\n",
              "                \n",
              "                .geemap-colab {\n",
              "                    background-color: var(--colab-primary-surface-color, white);\n",
              "                }\n",
              "                    \n",
              "                .geemap-colab .jupyter-button {\n",
              "                    --jp-layout-color3: var(--colab-primary-surface-color, white);\n",
              "                }\n",
              "            </style>\n",
              "            "
            ]
          },
          "metadata": {}
        },
        {
          "output_type": "display_data",
          "data": {
            "text/plain": [
              "Map(center=[50.64749130996149, -120.24938034062717], controls=(WidgetControl(options=['position', 'transparent…"
            ],
            "application/vnd.jupyter.widget-view+json": {
              "version_major": 2,
              "version_minor": 0,
              "model_id": "c47be7440a0145369d69871fb83d8dc0"
            }
          },
          "metadata": {
            "application/vnd.jupyter.widget-view+json": {
              "colab": {
                "custom_widget_manager": {
                  "url": "https://ssl.gstatic.com/colaboratory-static/widgets/colab-cdn-widget-manager/b3e629b1971e1542/manager.min.js"
                }
              }
            }
          }
        }
      ],
      "source": [
        "import geopandas as gpd\n",
        "aoi_filter_geopanda = gpd.read_file('/content/aoi_filter_small.shp', crs = 'EPSG:4326')\n",
        "#uploaded = files.upload()\n",
        "\n",
        "# Convert AOI to ee.Geometry object for clipping\n",
        "def shp_to_ee_fmt(geodf):\n",
        "  data = json.loads(geodf.to_json())\n",
        "  return data['features'][0]['geometry']['coordinates'\n",
        "  ]\n",
        "aoi_filter_geometry = ee.Geometry.MultiPolygon(\n",
        "    shp_to_ee_fmt(aoi_filter_geopanda)\n",
        "    )\n",
        "\n",
        "# Convert AOI to ee.Feature object object for styling\n",
        "aoi_filter_feature = ee.FeatureCollection(\n",
        "    aoi_filter_geometry\n",
        "    )\n",
        "aoi_filter_styled = aoi_filter_feature.style(\n",
        "    color='#e32636',\n",
        "    fillColor='80FF0000',\n",
        "    lineType='solid'\n",
        "    )\n",
        "\n",
        "# Clip NASA dataset to AOI window\n",
        "fires_dataset = ee.ImageCollection(\n",
        "    'FIRMS').filterDate(\n",
        "        '2023-10-25', '2023-12-01').select(\n",
        "            'T21').median()\n",
        "fires_aoi = fires_dataset.clip(\n",
        "    aoi_filter_geometry\n",
        "    )\n",
        "firesVis = {\n",
        "    'min': 325.0,\n",
        "    'max': 400.0,\n",
        "    'palette': [\n",
        "        'red', 'orange', 'yellow']\n",
        "    }\n",
        "\n",
        "# Map all layers\n",
        "Map = geemap.Map()\n",
        "Map.add_basemap('SATELLITE')\n",
        "Map.centerObject(aoi_filter_geometry, zoom=7)\n",
        "Map.addLayer(fires_aoi, firesVis, 'Fires')\n",
        "Map.addLayer(aoi_filter_styled, {}, opacity=.75)\n",
        "Map"
      ]
    },
    {
      "cell_type": "markdown",
      "source": [
        "# ⛔ Fire Alert\n",
        "\n",
        "There are active fires identified near you.\n",
        "\n",
        "Review map below of real-time wildfire data.\n",
        "\n",
        "Sign up here for daily fire alerts in your area: [FIRMS Fire Alerts ](https://firms.modaps.eosdis.nasa.gov/alerts/)\n"
      ],
      "metadata": {
        "id": "VonPsJCo2d4i"
      },
      "id": "VonPsJCo2d4i"
    },
    {
      "cell_type": "code",
      "source": [
        "# Filter to real-time FIRMS image\n",
        "fires_full = ee.ImageCollection('FIRMS')\n",
        "fires_active = fires_full.first()\n",
        "# Map again\n",
        "Map = geemap.Map()\n",
        "Map.add_basemap('SATELLITE')\n",
        "Map.centerObject(aoi_filter_geometry, zoom=9)\n",
        "Map.addLayer(aoi_filter_styled, {}, opacity=.75)\n",
        "Map.addLayer(fires_active, {}, 'Active Fires:FIRMS')\n",
        "Map\n"
      ],
      "metadata": {
        "colab": {
          "base_uri": "https://localhost:8080/",
          "height": 621,
          "referenced_widgets": [
            "45789fa7dc3a47ecafa2ff544edea074",
            "99af80d0cdef467fb44405dd636992cf",
            "765e2d1da0b845848c86c44df4c5528e",
            "955ee29e48f54dce89b6c7b90a52de56",
            "6c1c810d4e08444d885b61a035a2c672",
            "e332b48250744b0bbc6a17943285ed8c",
            "b09557c9eebe4b2cb793d6357ae2dfe1",
            "418da5877f394c5ab8389b7cf77ed379",
            "25da57f1b4c14d44ae185a532d508f8b",
            "fa7cd777a11d4a2db8df1db1cfbc6c62",
            "a6489a1693c045c8a72b3a992bf0a085",
            "ea81e6a163c8476ab2f618fd5fe039b0",
            "0acf952f95bf4642ad4507793ed9a597",
            "65eda3863c854fac8b74ed3c57ed9301",
            "1c6734d517554c0eba1bc8e228e0a841",
            "7ce17d9dc832404cba53d0baa7843520",
            "ef6d698f20be4b15a53886b7f052fc1e",
            "c65a0a0c729441f18bcda70147a6dea8",
            "d08ff70b80274f389f7a4937508c16f8",
            "87231112c0f74e2fa0977f9db4c4cac4",
            "e8d37b48407f448392d011d14dd7957e",
            "35ea121b8653437a91b750510f871366",
            "025e4b92a04546b2a656476875436264",
            "f7114f63fdb543fa926fd9290cc277ed",
            "30fef4d67cfb4de2b0a0fd81460ce0ac",
            "ef03b66ff255437daabee818d52466cd",
            "a4325e168d5e4f16b94ba708aca008f3"
          ]
        },
        "id": "KehONYKn5c-s",
        "outputId": "aff75bd7-dcad-40d5-f354-ae4bc7126c75"
      },
      "id": "KehONYKn5c-s",
      "execution_count": 37,
      "outputs": [
        {
          "output_type": "display_data",
          "data": {
            "text/plain": [
              "<IPython.core.display.HTML object>"
            ],
            "text/html": [
              "\n",
              "            <style>\n",
              "                .geemap-dark {\n",
              "                    --jp-widgets-color: white;\n",
              "                    --jp-widgets-label-color: white;\n",
              "                    --jp-ui-font-color1: white;\n",
              "                    --jp-layout-color2: #454545;\n",
              "                    background-color: #383838;\n",
              "                }\n",
              "                    \n",
              "                .geemap-dark .jupyter-button {\n",
              "                    --jp-layout-color3: #383838;\n",
              "                }\n",
              "                \n",
              "                .geemap-colab {\n",
              "                    background-color: var(--colab-primary-surface-color, white);\n",
              "                }\n",
              "                    \n",
              "                .geemap-colab .jupyter-button {\n",
              "                    --jp-layout-color3: var(--colab-primary-surface-color, white);\n",
              "                }\n",
              "            </style>\n",
              "            "
            ]
          },
          "metadata": {}
        },
        {
          "output_type": "display_data",
          "data": {
            "text/plain": [
              "Map(center=[50.64749130996149, -120.24938034062717], controls=(WidgetControl(options=['position', 'transparent…"
            ],
            "application/vnd.jupyter.widget-view+json": {
              "version_major": 2,
              "version_minor": 0,
              "model_id": "45789fa7dc3a47ecafa2ff544edea074"
            }
          },
          "metadata": {
            "application/vnd.jupyter.widget-view+json": {
              "colab": {
                "custom_widget_manager": {
                  "url": "https://ssl.gstatic.com/colaboratory-static/widgets/colab-cdn-widget-manager/b3e629b1971e1542/manager.min.js"
                }
              }
            }
          }
        }
      ]
    },
    {
      "cell_type": "markdown",
      "source": [
        "Need to download your results in raster format for local mapping?\n",
        "\n",
        "Replace folder path with personal drive folder and run code."
      ],
      "metadata": {
        "id": "GJtQoJtv_kpN"
      },
      "id": "GJtQoJtv_kpN"
    },
    {
      "cell_type": "code",
      "source": [
        "task = ee.batch.Export.image.toDrive(image=fires_aoi,\n",
        "                                     scale=30,\n",
        "                                     fileFormat='GeoTIFF',\n",
        "                                     description='Wildfires_AOI_2023OctDec',\n",
        "                                     folder='/content/drive/MyDrive/colab_data/',\n",
        "                                     maxPixels=1e9)\n",
        "\n",
        "task.start()"
      ],
      "metadata": {
        "colab": {
          "base_uri": "https://localhost:8080/",
          "height": 17
        },
        "id": "nBt0UyB-9BVy",
        "outputId": "4a832e62-5648-412d-d80c-8dbf8299e609"
      },
      "id": "nBt0UyB-9BVy",
      "execution_count": 38,
      "outputs": [
        {
          "output_type": "display_data",
          "data": {
            "text/plain": [
              "<IPython.core.display.HTML object>"
            ],
            "text/html": [
              "\n",
              "            <style>\n",
              "                .geemap-dark {\n",
              "                    --jp-widgets-color: white;\n",
              "                    --jp-widgets-label-color: white;\n",
              "                    --jp-ui-font-color1: white;\n",
              "                    --jp-layout-color2: #454545;\n",
              "                    background-color: #383838;\n",
              "                }\n",
              "                    \n",
              "                .geemap-dark .jupyter-button {\n",
              "                    --jp-layout-color3: #383838;\n",
              "                }\n",
              "                \n",
              "                .geemap-colab {\n",
              "                    background-color: var(--colab-primary-surface-color, white);\n",
              "                }\n",
              "                    \n",
              "                .geemap-colab .jupyter-button {\n",
              "                    --jp-layout-color3: var(--colab-primary-surface-color, white);\n",
              "                }\n",
              "            </style>\n",
              "            "
            ]
          },
          "metadata": {}
        }
      ]
    }
  ],
  "metadata": {
    "kernelspec": {
      "display_name": "Python 3 (ipykernel)",
      "language": "python",
      "name": "python3"
    },
    "language_info": {
      "codemirror_mode": {
        "name": "ipython",
        "version": 3
      },
      "file_extension": ".py",
      "mimetype": "text/x-python",
      "name": "python",
      "nbconvert_exporter": "python",
      "pygments_lexer": "ipython3",
      "version": "3.8.18"
    },
    "colab": {
      "provenance": [],
      "include_colab_link": true
    },
    "widgets": {
      "application/vnd.jupyter.widget-state+json": {
        "c47be7440a0145369d69871fb83d8dc0": {
          "model_module": "jupyter-leaflet",
          "model_name": "LeafletMapModel",
          "model_module_version": "^0.18",
          "state": {
            "_dom_classes": [],
            "_model_module": "jupyter-leaflet",
            "_model_module_version": "^0.18",
            "_model_name": "LeafletMapModel",
            "_view_count": null,
            "_view_module": "jupyter-leaflet",
            "_view_module_version": "^0.18",
            "_view_name": "LeafletMapView",
            "bottom": 11321,
            "bounce_at_zoom_limits": true,
            "box_zoom": true,
            "center": [
              50.64749130996149,
              -120.24938034062717
            ],
            "close_popup_on_click": true,
            "controls": [
              "IPY_MODEL_2104c69e674c4e389d3cd724fe5c9b9c",
              "IPY_MODEL_266c0f5379aa4cf8a011df3541bad7f0",
              "IPY_MODEL_b861bd93928d41fc933ced2323b736bc",
              "IPY_MODEL_ea9dde17a02547cf8e372f3a31fb4325",
              "IPY_MODEL_d65db69731f140cea3a90ccd41cce982",
              "IPY_MODEL_c70d6908cace4e799650979490163341",
              "IPY_MODEL_d7fc926df2204ed987e729612e9d0de2",
              "IPY_MODEL_776c79ed82994bbebc280a3bb0761532"
            ],
            "crs": {
              "name": "EPSG3857",
              "custom": false
            },
            "default_style": "IPY_MODEL_8f30428d5aa2486990404ff94127500d",
            "double_click_zoom": true,
            "dragging": true,
            "dragging_style": "IPY_MODEL_6c864cd2ac504ec2a5889f5fe643f539",
            "east": -115.62011718750001,
            "fullscreen": false,
            "inertia": true,
            "inertia_deceleration": 3000,
            "inertia_max_speed": 1500,
            "interpolation": "bilinear",
            "keyboard": true,
            "keyboard_pan_offset": 80,
            "keyboard_zoom_offset": 1,
            "layers": [
              "IPY_MODEL_5b21407a4814461b95e563e170b3b20d",
              "IPY_MODEL_aa02fa673c204bea95ac391427771387",
              "IPY_MODEL_20d0b399ee124bc38d90fdad054a9085",
              "IPY_MODEL_a899559ebf8c40aba8c0441a90f19456"
            ],
            "layout": "IPY_MODEL_12c83f342d9249cea54bea7808e44fad",
            "left": 5018,
            "max_zoom": 24,
            "min_zoom": null,
            "modisdate": "2023-12-07",
            "north": 52.68970242806752,
            "options": [
              "bounce_at_zoom_limits",
              "box_zoom",
              "center",
              "close_popup_on_click",
              "double_click_zoom",
              "dragging",
              "fullscreen",
              "inertia",
              "inertia_deceleration",
              "inertia_max_speed",
              "interpolation",
              "keyboard",
              "keyboard_pan_offset",
              "keyboard_zoom_offset",
              "max_zoom",
              "min_zoom",
              "prefer_canvas",
              "scroll_wheel_zoom",
              "tap",
              "tap_tolerance",
              "touch_zoom",
              "world_copy_jump",
              "zoom",
              "zoom_animation_threshold",
              "zoom_delta",
              "zoom_snap"
            ],
            "panes": {},
            "prefer_canvas": false,
            "right": 5860,
            "scroll_wheel_zoom": true,
            "south": 48.50932644976633,
            "style": "IPY_MODEL_6bd4386f43384ccb95185319f93e2390",
            "tap": true,
            "tap_tolerance": 15,
            "top": 10721,
            "touch_zoom": true,
            "west": -124.87060546875001,
            "window_url": "https://lhrx3loto5i-496ff2e9c6d22116-0-colab.googleusercontent.com/outputframe.html?vrz=colab_20231206-060120_RC00_588388130",
            "world_copy_jump": false,
            "zoom": 7,
            "zoom_animation_threshold": 4,
            "zoom_delta": 1,
            "zoom_snap": 1
          }
        },
        "2104c69e674c4e389d3cd724fe5c9b9c": {
          "model_module": "jupyter-leaflet",
          "model_name": "LeafletWidgetControlModel",
          "model_module_version": "^0.18",
          "state": {
            "_model_module": "jupyter-leaflet",
            "_model_module_version": "^0.18",
            "_model_name": "LeafletWidgetControlModel",
            "_view_count": null,
            "_view_module": "jupyter-leaflet",
            "_view_module_version": "^0.18",
            "_view_name": "LeafletWidgetControlView",
            "max_height": null,
            "max_width": null,
            "min_height": null,
            "min_width": null,
            "options": [
              "position",
              "transparent_bg"
            ],
            "position": "topleft",
            "transparent_bg": false,
            "widget": "IPY_MODEL_b118cda50e0c49d78ec560bea727c010"
          }
        },
        "266c0f5379aa4cf8a011df3541bad7f0": {
          "model_module": "jupyter-leaflet",
          "model_name": "LeafletZoomControlModel",
          "model_module_version": "^0.18",
          "state": {
            "_model_module": "jupyter-leaflet",
            "_model_module_version": "^0.18",
            "_model_name": "LeafletZoomControlModel",
            "_view_count": null,
            "_view_module": "jupyter-leaflet",
            "_view_module_version": "^0.18",
            "_view_name": "LeafletZoomControlView",
            "options": [
              "position",
              "zoom_in_text",
              "zoom_in_title",
              "zoom_out_text",
              "zoom_out_title"
            ],
            "position": "topleft",
            "zoom_in_text": "+",
            "zoom_in_title": "Zoom in",
            "zoom_out_text": "-",
            "zoom_out_title": "Zoom out"
          }
        },
        "b861bd93928d41fc933ced2323b736bc": {
          "model_module": "jupyter-leaflet",
          "model_name": "LeafletFullScreenControlModel",
          "model_module_version": "^0.18",
          "state": {
            "_model_module": "jupyter-leaflet",
            "_model_module_version": "^0.18",
            "_model_name": "LeafletFullScreenControlModel",
            "_view_count": null,
            "_view_module": "jupyter-leaflet",
            "_view_module_version": "^0.18",
            "_view_name": "LeafletFullScreenControlView",
            "options": [
              "position"
            ],
            "position": "topleft"
          }
        },
        "ea9dde17a02547cf8e372f3a31fb4325": {
          "model_module": "jupyter-leaflet",
          "model_name": "LeafletDrawControlModel",
          "model_module_version": "^0.18",
          "state": {
            "_model_module": "jupyter-leaflet",
            "_model_module_version": "^0.18",
            "_model_name": "LeafletDrawControlModel",
            "_view_count": null,
            "_view_module": "jupyter-leaflet",
            "_view_module_version": "^0.18",
            "_view_name": "LeafletDrawControlView",
            "circle": {},
            "circlemarker": {},
            "data": [],
            "edit": true,
            "marker": {
              "shapeOptions": {
                "color": "#3388ff"
              }
            },
            "options": [
              "position"
            ],
            "polygon": {
              "shapeOptions": {}
            },
            "polyline": {
              "shapeOptions": {}
            },
            "position": "topleft",
            "rectangle": {
              "shapeOptions": {
                "color": "#3388ff"
              }
            },
            "remove": true
          }
        },
        "d65db69731f140cea3a90ccd41cce982": {
          "model_module": "jupyter-leaflet",
          "model_name": "LeafletScaleControlModel",
          "model_module_version": "^0.18",
          "state": {
            "_model_module": "jupyter-leaflet",
            "_model_module_version": "^0.18",
            "_model_name": "LeafletScaleControlModel",
            "_view_count": null,
            "_view_module": "jupyter-leaflet",
            "_view_module_version": "^0.18",
            "_view_name": "LeafletScaleControlView",
            "imperial": true,
            "max_width": 100,
            "metric": true,
            "options": [
              "imperial",
              "max_width",
              "metric",
              "position",
              "update_when_idle"
            ],
            "position": "bottomleft",
            "update_when_idle": false
          }
        },
        "c70d6908cace4e799650979490163341": {
          "model_module": "jupyter-leaflet",
          "model_name": "LeafletMeasureControlModel",
          "model_module_version": "^0.18",
          "state": {
            "_custom_units": {},
            "_model_module": "jupyter-leaflet",
            "_model_module_version": "^0.18",
            "_model_name": "LeafletMeasureControlModel",
            "_view_count": null,
            "_view_module": "jupyter-leaflet",
            "_view_module_version": "^0.18",
            "_view_name": "LeafletMeasureControlView",
            "active_color": "orange",
            "capture_z_index": 10000,
            "completed_color": "#C8F2BE",
            "options": [
              "active_color",
              "capture_z_index",
              "completed_color",
              "popup_options",
              "position",
              "primary_area_unit",
              "primary_length_unit",
              "secondary_area_unit",
              "secondary_length_unit"
            ],
            "popup_options": {
              "className": "leaflet-measure-resultpopup",
              "autoPanPadding": [
                10,
                10
              ]
            },
            "position": "bottomleft",
            "primary_area_unit": "acres",
            "primary_length_unit": "kilometers",
            "secondary_area_unit": null,
            "secondary_length_unit": null
          }
        },
        "d7fc926df2204ed987e729612e9d0de2": {
          "model_module": "jupyter-leaflet",
          "model_name": "LeafletWidgetControlModel",
          "model_module_version": "^0.18",
          "state": {
            "_model_module": "jupyter-leaflet",
            "_model_module_version": "^0.18",
            "_model_name": "LeafletWidgetControlModel",
            "_view_count": null,
            "_view_module": "jupyter-leaflet",
            "_view_module_version": "^0.18",
            "_view_name": "LeafletWidgetControlView",
            "max_height": null,
            "max_width": null,
            "min_height": null,
            "min_width": null,
            "options": [
              "position",
              "transparent_bg"
            ],
            "position": "topright",
            "transparent_bg": false,
            "widget": "IPY_MODEL_54a28d62adc448898792f818319944d2"
          }
        },
        "776c79ed82994bbebc280a3bb0761532": {
          "model_module": "jupyter-leaflet",
          "model_name": "LeafletAttributionControlModel",
          "model_module_version": "^0.18",
          "state": {
            "_model_module": "jupyter-leaflet",
            "_model_module_version": "^0.18",
            "_model_name": "LeafletAttributionControlModel",
            "_view_count": null,
            "_view_module": "jupyter-leaflet",
            "_view_module_version": "^0.18",
            "_view_name": "LeafletAttributionControlView",
            "options": [
              "position",
              "prefix"
            ],
            "position": "bottomright",
            "prefix": "ipyleaflet"
          }
        },
        "8f30428d5aa2486990404ff94127500d": {
          "model_module": "jupyter-leaflet",
          "model_name": "LeafletMapStyleModel",
          "model_module_version": "^0.18",
          "state": {
            "_model_module": "jupyter-leaflet",
            "_model_module_version": "^0.18",
            "_model_name": "LeafletMapStyleModel",
            "_view_count": null,
            "_view_module": "@jupyter-widgets/base",
            "_view_module_version": "1.2.0",
            "_view_name": "StyleView",
            "cursor": "grab"
          }
        },
        "6c864cd2ac504ec2a5889f5fe643f539": {
          "model_module": "jupyter-leaflet",
          "model_name": "LeafletMapStyleModel",
          "model_module_version": "^0.18",
          "state": {
            "_model_module": "jupyter-leaflet",
            "_model_module_version": "^0.18",
            "_model_name": "LeafletMapStyleModel",
            "_view_count": null,
            "_view_module": "@jupyter-widgets/base",
            "_view_module_version": "1.2.0",
            "_view_name": "StyleView",
            "cursor": "move"
          }
        },
        "5b21407a4814461b95e563e170b3b20d": {
          "model_module": "jupyter-leaflet",
          "model_name": "LeafletTileLayerModel",
          "model_module_version": "^0.18",
          "state": {
            "_model_module": "jupyter-leaflet",
            "_model_module_version": "^0.18",
            "_model_name": "LeafletTileLayerModel",
            "_view_count": null,
            "_view_module": "jupyter-leaflet",
            "_view_module_version": "^0.18",
            "_view_name": "LeafletTileLayerView",
            "attribution": "&copy; <a href=\"https://www.openstreetmap.org/copyright\">OpenStreetMap</a> contributors",
            "base": true,
            "bottom": true,
            "bounds": null,
            "detect_retina": false,
            "loading": false,
            "max_native_zoom": null,
            "max_zoom": 19,
            "min_native_zoom": null,
            "min_zoom": 1,
            "name": "OpenStreetMap.Mapnik",
            "no_wrap": false,
            "opacity": 1,
            "options": [
              "attribution",
              "bounds",
              "detect_retina",
              "max_native_zoom",
              "max_zoom",
              "min_native_zoom",
              "min_zoom",
              "no_wrap",
              "tile_size",
              "tms",
              "zoom_offset"
            ],
            "pane": "",
            "popup": null,
            "popup_max_height": null,
            "popup_max_width": 300,
            "popup_min_width": 50,
            "show_loading": false,
            "subitems": [],
            "tile_size": 256,
            "tms": false,
            "url": "https://tile.openstreetmap.org/{z}/{x}/{y}.png",
            "visible": true,
            "zoom_offset": 0
          }
        },
        "aa02fa673c204bea95ac391427771387": {
          "model_module": "jupyter-leaflet",
          "model_name": "LeafletTileLayerModel",
          "model_module_version": "^0.18",
          "state": {
            "_model_module": "jupyter-leaflet",
            "_model_module_version": "^0.18",
            "_model_name": "LeafletTileLayerModel",
            "_view_count": null,
            "_view_module": "jupyter-leaflet",
            "_view_module_version": "^0.18",
            "_view_name": "LeafletTileLayerView",
            "attribution": "Esri",
            "base": false,
            "bottom": true,
            "bounds": null,
            "detect_retina": false,
            "loading": false,
            "max_native_zoom": null,
            "max_zoom": 24,
            "min_native_zoom": null,
            "min_zoom": 0,
            "name": "Esri.WorldImagery",
            "no_wrap": false,
            "opacity": 1,
            "options": [
              "attribution",
              "bounds",
              "detect_retina",
              "max_native_zoom",
              "max_zoom",
              "min_native_zoom",
              "min_zoom",
              "no_wrap",
              "tile_size",
              "tms",
              "zoom_offset"
            ],
            "pane": "",
            "popup": null,
            "popup_max_height": null,
            "popup_max_width": 300,
            "popup_min_width": 50,
            "show_loading": false,
            "subitems": [],
            "tile_size": 256,
            "tms": false,
            "url": "https://server.arcgisonline.com/ArcGIS/rest/services/World_Imagery/MapServer/tile/{z}/{y}/{x}",
            "visible": true,
            "zoom_offset": 0
          }
        },
        "20d0b399ee124bc38d90fdad054a9085": {
          "model_module": "jupyter-leaflet",
          "model_name": "LeafletTileLayerModel",
          "model_module_version": "^0.18",
          "state": {
            "_model_module": "jupyter-leaflet",
            "_model_module_version": "^0.18",
            "_model_name": "LeafletTileLayerModel",
            "_view_count": null,
            "_view_module": "jupyter-leaflet",
            "_view_module_version": "^0.18",
            "_view_name": "LeafletTileLayerView",
            "attribution": "Google Earth Engine",
            "base": false,
            "bottom": true,
            "bounds": null,
            "detect_retina": false,
            "loading": false,
            "max_native_zoom": null,
            "max_zoom": 24,
            "min_native_zoom": null,
            "min_zoom": 0,
            "name": "Fires",
            "no_wrap": false,
            "opacity": 1,
            "options": [
              "attribution",
              "bounds",
              "detect_retina",
              "max_native_zoom",
              "max_zoom",
              "min_native_zoom",
              "min_zoom",
              "no_wrap",
              "tile_size",
              "tms",
              "zoom_offset"
            ],
            "pane": "",
            "popup": null,
            "popup_max_height": null,
            "popup_max_width": 300,
            "popup_min_width": 50,
            "show_loading": false,
            "subitems": [],
            "tile_size": 256,
            "tms": false,
            "url": "https://earthengine.googleapis.com/v1/projects/earthengine-legacy/maps/b87c5fdb71ab29050e94290c02599f55-0634ee6891ac3aedaf0e9887d0706550/tiles/{z}/{x}/{y}",
            "visible": true,
            "zoom_offset": 0
          }
        },
        "a899559ebf8c40aba8c0441a90f19456": {
          "model_module": "jupyter-leaflet",
          "model_name": "LeafletTileLayerModel",
          "model_module_version": "^0.18",
          "state": {
            "_model_module": "jupyter-leaflet",
            "_model_module_version": "^0.18",
            "_model_name": "LeafletTileLayerModel",
            "_view_count": null,
            "_view_module": "jupyter-leaflet",
            "_view_module_version": "^0.18",
            "_view_name": "LeafletTileLayerView",
            "attribution": "Google Earth Engine",
            "base": false,
            "bottom": true,
            "bounds": null,
            "detect_retina": false,
            "loading": false,
            "max_native_zoom": null,
            "max_zoom": 24,
            "min_native_zoom": null,
            "min_zoom": 0,
            "name": "Layer 2",
            "no_wrap": false,
            "opacity": 0.75,
            "options": [
              "attribution",
              "bounds",
              "detect_retina",
              "max_native_zoom",
              "max_zoom",
              "min_native_zoom",
              "min_zoom",
              "no_wrap",
              "tile_size",
              "tms",
              "zoom_offset"
            ],
            "pane": "",
            "popup": null,
            "popup_max_height": null,
            "popup_max_width": 300,
            "popup_min_width": 50,
            "show_loading": false,
            "subitems": [],
            "tile_size": 256,
            "tms": false,
            "url": "https://earthengine.googleapis.com/v1/projects/earthengine-legacy/maps/d52415410914221080619bf691ab2b73-a75b5a27911957228d4936e8d8a72274/tiles/{z}/{x}/{y}",
            "visible": true,
            "zoom_offset": 0
          }
        },
        "12c83f342d9249cea54bea7808e44fad": {
          "model_module": "@jupyter-widgets/base",
          "model_name": "LayoutModel",
          "model_module_version": "1.2.0",
          "state": {
            "_model_module": "@jupyter-widgets/base",
            "_model_module_version": "1.2.0",
            "_model_name": "LayoutModel",
            "_view_count": null,
            "_view_module": "@jupyter-widgets/base",
            "_view_module_version": "1.2.0",
            "_view_name": "LayoutView",
            "align_content": null,
            "align_items": null,
            "align_self": null,
            "border": null,
            "bottom": null,
            "display": null,
            "flex": null,
            "flex_flow": null,
            "grid_area": null,
            "grid_auto_columns": null,
            "grid_auto_flow": null,
            "grid_auto_rows": null,
            "grid_column": null,
            "grid_gap": null,
            "grid_row": null,
            "grid_template_areas": null,
            "grid_template_columns": null,
            "grid_template_rows": null,
            "height": "600px",
            "justify_content": null,
            "justify_items": null,
            "left": null,
            "margin": null,
            "max_height": null,
            "max_width": null,
            "min_height": null,
            "min_width": null,
            "object_fit": null,
            "object_position": null,
            "order": null,
            "overflow": null,
            "overflow_x": null,
            "overflow_y": null,
            "padding": null,
            "right": null,
            "top": null,
            "visibility": null,
            "width": null
          }
        },
        "6bd4386f43384ccb95185319f93e2390": {
          "model_module": "jupyter-leaflet",
          "model_name": "LeafletMapStyleModel",
          "model_module_version": "^0.18",
          "state": {
            "_model_module": "jupyter-leaflet",
            "_model_module_version": "^0.18",
            "_model_name": "LeafletMapStyleModel",
            "_view_count": null,
            "_view_module": "@jupyter-widgets/base",
            "_view_module_version": "1.2.0",
            "_view_name": "StyleView",
            "cursor": "grab"
          }
        },
        "b118cda50e0c49d78ec560bea727c010": {
          "model_module": "@jupyter-widgets/controls",
          "model_name": "HBoxModel",
          "model_module_version": "1.5.0",
          "state": {
            "_dom_classes": [
              "geemap-colab"
            ],
            "_model_module": "@jupyter-widgets/controls",
            "_model_module_version": "1.5.0",
            "_model_name": "HBoxModel",
            "_view_count": null,
            "_view_module": "@jupyter-widgets/controls",
            "_view_module_version": "1.5.0",
            "_view_name": "HBoxView",
            "box_style": "",
            "children": [
              "IPY_MODEL_4bc6b90dee6e412bb30457b5438f9946"
            ],
            "layout": "IPY_MODEL_be98e7ba5e944b389aa952ab77468993"
          }
        },
        "54a28d62adc448898792f818319944d2": {
          "model_module": "@jupyter-widgets/controls",
          "model_name": "VBoxModel",
          "model_module_version": "1.5.0",
          "state": {
            "_dom_classes": [
              "geemap-colab"
            ],
            "_model_module": "@jupyter-widgets/controls",
            "_model_module_version": "1.5.0",
            "_model_name": "VBoxModel",
            "_view_count": null,
            "_view_module": "@jupyter-widgets/controls",
            "_view_module_version": "1.5.0",
            "_view_name": "VBoxView",
            "box_style": "",
            "children": [
              "IPY_MODEL_de1f33b912a647e593e9d092ee3a910b"
            ],
            "layout": "IPY_MODEL_88c3be8d7778424cb1575568ebc45c4c"
          }
        },
        "4bc6b90dee6e412bb30457b5438f9946": {
          "model_module": "@jupyter-widgets/controls",
          "model_name": "ToggleButtonModel",
          "model_module_version": "1.5.0",
          "state": {
            "_dom_classes": [],
            "_model_module": "@jupyter-widgets/controls",
            "_model_module_version": "1.5.0",
            "_model_name": "ToggleButtonModel",
            "_view_count": null,
            "_view_module": "@jupyter-widgets/controls",
            "_view_module_version": "1.5.0",
            "_view_name": "ToggleButtonView",
            "button_style": "",
            "description": "",
            "description_tooltip": null,
            "disabled": false,
            "icon": "globe",
            "layout": "IPY_MODEL_8d77060f61ef40efb91fd79ef5d7467f",
            "style": "IPY_MODEL_51d2ad4b7d074dc6a717cf53831542c1",
            "tooltip": "Search location/data",
            "value": false
          }
        },
        "be98e7ba5e944b389aa952ab77468993": {
          "model_module": "@jupyter-widgets/base",
          "model_name": "LayoutModel",
          "model_module_version": "1.2.0",
          "state": {
            "_model_module": "@jupyter-widgets/base",
            "_model_module_version": "1.2.0",
            "_model_name": "LayoutModel",
            "_view_count": null,
            "_view_module": "@jupyter-widgets/base",
            "_view_module_version": "1.2.0",
            "_view_name": "LayoutView",
            "align_content": null,
            "align_items": null,
            "align_self": null,
            "border": null,
            "bottom": null,
            "display": null,
            "flex": null,
            "flex_flow": null,
            "grid_area": null,
            "grid_auto_columns": null,
            "grid_auto_flow": null,
            "grid_auto_rows": null,
            "grid_column": null,
            "grid_gap": null,
            "grid_row": null,
            "grid_template_areas": null,
            "grid_template_columns": null,
            "grid_template_rows": null,
            "height": null,
            "justify_content": null,
            "justify_items": null,
            "left": null,
            "margin": null,
            "max_height": null,
            "max_width": null,
            "min_height": null,
            "min_width": null,
            "object_fit": null,
            "object_position": null,
            "order": null,
            "overflow": null,
            "overflow_x": null,
            "overflow_y": null,
            "padding": null,
            "right": null,
            "top": null,
            "visibility": null,
            "width": null
          }
        },
        "de1f33b912a647e593e9d092ee3a910b": {
          "model_module": "@jupyter-widgets/controls",
          "model_name": "ToggleButtonModel",
          "model_module_version": "1.5.0",
          "state": {
            "_dom_classes": [],
            "_model_module": "@jupyter-widgets/controls",
            "_model_module_version": "1.5.0",
            "_model_name": "ToggleButtonModel",
            "_view_count": null,
            "_view_module": "@jupyter-widgets/controls",
            "_view_module_version": "1.5.0",
            "_view_name": "ToggleButtonView",
            "button_style": "",
            "description": "",
            "description_tooltip": null,
            "disabled": false,
            "icon": "wrench",
            "layout": "IPY_MODEL_8c1ce618182f4deaa918481689b38425",
            "style": "IPY_MODEL_906a999d2a084b31b2581a24b1890899",
            "tooltip": "Toolbar",
            "value": false
          }
        },
        "88c3be8d7778424cb1575568ebc45c4c": {
          "model_module": "@jupyter-widgets/base",
          "model_name": "LayoutModel",
          "model_module_version": "1.2.0",
          "state": {
            "_model_module": "@jupyter-widgets/base",
            "_model_module_version": "1.2.0",
            "_model_name": "LayoutModel",
            "_view_count": null,
            "_view_module": "@jupyter-widgets/base",
            "_view_module_version": "1.2.0",
            "_view_name": "LayoutView",
            "align_content": null,
            "align_items": null,
            "align_self": null,
            "border": null,
            "bottom": null,
            "display": null,
            "flex": null,
            "flex_flow": null,
            "grid_area": null,
            "grid_auto_columns": null,
            "grid_auto_flow": null,
            "grid_auto_rows": null,
            "grid_column": null,
            "grid_gap": null,
            "grid_row": null,
            "grid_template_areas": null,
            "grid_template_columns": null,
            "grid_template_rows": null,
            "height": null,
            "justify_content": null,
            "justify_items": null,
            "left": null,
            "margin": null,
            "max_height": null,
            "max_width": null,
            "min_height": null,
            "min_width": null,
            "object_fit": null,
            "object_position": null,
            "order": null,
            "overflow": null,
            "overflow_x": null,
            "overflow_y": null,
            "padding": null,
            "right": null,
            "top": null,
            "visibility": null,
            "width": null
          }
        },
        "8d77060f61ef40efb91fd79ef5d7467f": {
          "model_module": "@jupyter-widgets/base",
          "model_name": "LayoutModel",
          "model_module_version": "1.2.0",
          "state": {
            "_model_module": "@jupyter-widgets/base",
            "_model_module_version": "1.2.0",
            "_model_name": "LayoutModel",
            "_view_count": null,
            "_view_module": "@jupyter-widgets/base",
            "_view_module_version": "1.2.0",
            "_view_name": "LayoutView",
            "align_content": null,
            "align_items": null,
            "align_self": null,
            "border": null,
            "bottom": null,
            "display": null,
            "flex": null,
            "flex_flow": null,
            "grid_area": null,
            "grid_auto_columns": null,
            "grid_auto_flow": null,
            "grid_auto_rows": null,
            "grid_column": null,
            "grid_gap": null,
            "grid_row": null,
            "grid_template_areas": null,
            "grid_template_columns": null,
            "grid_template_rows": null,
            "height": "28px",
            "justify_content": null,
            "justify_items": null,
            "left": null,
            "margin": null,
            "max_height": null,
            "max_width": null,
            "min_height": null,
            "min_width": null,
            "object_fit": null,
            "object_position": null,
            "order": null,
            "overflow": null,
            "overflow_x": null,
            "overflow_y": null,
            "padding": "0px 0px 0px 4px",
            "right": null,
            "top": null,
            "visibility": null,
            "width": "28px"
          }
        },
        "51d2ad4b7d074dc6a717cf53831542c1": {
          "model_module": "@jupyter-widgets/controls",
          "model_name": "DescriptionStyleModel",
          "model_module_version": "1.5.0",
          "state": {
            "_model_module": "@jupyter-widgets/controls",
            "_model_module_version": "1.5.0",
            "_model_name": "DescriptionStyleModel",
            "_view_count": null,
            "_view_module": "@jupyter-widgets/base",
            "_view_module_version": "1.2.0",
            "_view_name": "StyleView",
            "description_width": ""
          }
        },
        "8c1ce618182f4deaa918481689b38425": {
          "model_module": "@jupyter-widgets/base",
          "model_name": "LayoutModel",
          "model_module_version": "1.2.0",
          "state": {
            "_model_module": "@jupyter-widgets/base",
            "_model_module_version": "1.2.0",
            "_model_name": "LayoutModel",
            "_view_count": null,
            "_view_module": "@jupyter-widgets/base",
            "_view_module_version": "1.2.0",
            "_view_name": "LayoutView",
            "align_content": null,
            "align_items": null,
            "align_self": null,
            "border": null,
            "bottom": null,
            "display": null,
            "flex": null,
            "flex_flow": null,
            "grid_area": null,
            "grid_auto_columns": null,
            "grid_auto_flow": null,
            "grid_auto_rows": null,
            "grid_column": null,
            "grid_gap": null,
            "grid_row": null,
            "grid_template_areas": null,
            "grid_template_columns": null,
            "grid_template_rows": null,
            "height": "28px",
            "justify_content": null,
            "justify_items": null,
            "left": null,
            "margin": null,
            "max_height": null,
            "max_width": null,
            "min_height": null,
            "min_width": null,
            "object_fit": null,
            "object_position": null,
            "order": null,
            "overflow": null,
            "overflow_x": null,
            "overflow_y": null,
            "padding": "0px 0px 0px 4px",
            "right": null,
            "top": null,
            "visibility": null,
            "width": "28px"
          }
        },
        "906a999d2a084b31b2581a24b1890899": {
          "model_module": "@jupyter-widgets/controls",
          "model_name": "DescriptionStyleModel",
          "model_module_version": "1.5.0",
          "state": {
            "_model_module": "@jupyter-widgets/controls",
            "_model_module_version": "1.5.0",
            "_model_name": "DescriptionStyleModel",
            "_view_count": null,
            "_view_module": "@jupyter-widgets/base",
            "_view_module_version": "1.2.0",
            "_view_name": "StyleView",
            "description_width": ""
          }
        },
        "45789fa7dc3a47ecafa2ff544edea074": {
          "model_module": "jupyter-leaflet",
          "model_name": "LeafletMapModel",
          "model_module_version": "^0.18",
          "state": {
            "_dom_classes": [],
            "_model_module": "jupyter-leaflet",
            "_model_module_version": "^0.18",
            "_model_name": "LeafletMapModel",
            "_view_count": null,
            "_view_module": "jupyter-leaflet",
            "_view_module_version": "^0.18",
            "_view_name": "LeafletMapView",
            "bottom": 44383,
            "bounce_at_zoom_limits": true,
            "box_zoom": true,
            "center": [
              50.64771894418296,
              -120.24810791015625
            ],
            "close_popup_on_click": true,
            "controls": [
              "IPY_MODEL_99af80d0cdef467fb44405dd636992cf",
              "IPY_MODEL_765e2d1da0b845848c86c44df4c5528e",
              "IPY_MODEL_955ee29e48f54dce89b6c7b90a52de56",
              "IPY_MODEL_6c1c810d4e08444d885b61a035a2c672",
              "IPY_MODEL_e332b48250744b0bbc6a17943285ed8c",
              "IPY_MODEL_b09557c9eebe4b2cb793d6357ae2dfe1",
              "IPY_MODEL_418da5877f394c5ab8389b7cf77ed379",
              "IPY_MODEL_25da57f1b4c14d44ae185a532d508f8b"
            ],
            "crs": {
              "name": "EPSG3857",
              "custom": false
            },
            "default_style": "IPY_MODEL_fa7cd777a11d4a2db8df1db1cfbc6c62",
            "double_click_zoom": true,
            "dragging": true,
            "dragging_style": "IPY_MODEL_a6489a1693c045c8a72b3a992bf0a085",
            "east": -119.09179687500001,
            "fullscreen": false,
            "inertia": true,
            "inertia_deceleration": 3000,
            "inertia_max_speed": 1500,
            "interpolation": "bilinear",
            "keyboard": true,
            "keyboard_pan_offset": 80,
            "keyboard_zoom_offset": 1,
            "layers": [
              "IPY_MODEL_ea81e6a163c8476ab2f618fd5fe039b0",
              "IPY_MODEL_0acf952f95bf4642ad4507793ed9a597",
              "IPY_MODEL_65eda3863c854fac8b74ed3c57ed9301",
              "IPY_MODEL_1c6734d517554c0eba1bc8e228e0a841"
            ],
            "layout": "IPY_MODEL_7ce17d9dc832404cba53d0baa7843520",
            "left": 21334,
            "max_zoom": 24,
            "min_zoom": null,
            "modisdate": "2023-12-07",
            "north": 51.16728887106285,
            "options": [
              "bounce_at_zoom_limits",
              "box_zoom",
              "center",
              "close_popup_on_click",
              "double_click_zoom",
              "dragging",
              "fullscreen",
              "inertia",
              "inertia_deceleration",
              "inertia_max_speed",
              "interpolation",
              "keyboard",
              "keyboard_pan_offset",
              "keyboard_zoom_offset",
              "max_zoom",
              "min_zoom",
              "prefer_canvas",
              "scroll_wheel_zoom",
              "tap",
              "tap_tolerance",
              "touch_zoom",
              "world_copy_jump",
              "zoom",
              "zoom_animation_threshold",
              "zoom_delta",
              "zoom_snap"
            ],
            "panes": {},
            "prefer_canvas": false,
            "right": 22176,
            "scroll_wheel_zoom": true,
            "south": 50.122339102717106,
            "style": "IPY_MODEL_fa7cd777a11d4a2db8df1db1cfbc6c62",
            "tap": true,
            "tap_tolerance": 15,
            "top": 43783,
            "touch_zoom": true,
            "west": -121.40441894531251,
            "window_url": "https://lhrx3loto5i-496ff2e9c6d22116-0-colab.googleusercontent.com/outputframe.html?vrz=colab_20231206-060120_RC00_588388130",
            "world_copy_jump": false,
            "zoom": 9,
            "zoom_animation_threshold": 4,
            "zoom_delta": 1,
            "zoom_snap": 1
          }
        },
        "99af80d0cdef467fb44405dd636992cf": {
          "model_module": "jupyter-leaflet",
          "model_name": "LeafletWidgetControlModel",
          "model_module_version": "^0.18",
          "state": {
            "_model_module": "jupyter-leaflet",
            "_model_module_version": "^0.18",
            "_model_name": "LeafletWidgetControlModel",
            "_view_count": null,
            "_view_module": "jupyter-leaflet",
            "_view_module_version": "^0.18",
            "_view_name": "LeafletWidgetControlView",
            "max_height": null,
            "max_width": null,
            "min_height": null,
            "min_width": null,
            "options": [
              "position",
              "transparent_bg"
            ],
            "position": "topleft",
            "transparent_bg": false,
            "widget": "IPY_MODEL_c65a0a0c729441f18bcda70147a6dea8"
          }
        },
        "765e2d1da0b845848c86c44df4c5528e": {
          "model_module": "jupyter-leaflet",
          "model_name": "LeafletZoomControlModel",
          "model_module_version": "^0.18",
          "state": {
            "_model_module": "jupyter-leaflet",
            "_model_module_version": "^0.18",
            "_model_name": "LeafletZoomControlModel",
            "_view_count": null,
            "_view_module": "jupyter-leaflet",
            "_view_module_version": "^0.18",
            "_view_name": "LeafletZoomControlView",
            "options": [
              "position",
              "zoom_in_text",
              "zoom_in_title",
              "zoom_out_text",
              "zoom_out_title"
            ],
            "position": "topleft",
            "zoom_in_text": "+",
            "zoom_in_title": "Zoom in",
            "zoom_out_text": "-",
            "zoom_out_title": "Zoom out"
          }
        },
        "955ee29e48f54dce89b6c7b90a52de56": {
          "model_module": "jupyter-leaflet",
          "model_name": "LeafletFullScreenControlModel",
          "model_module_version": "^0.18",
          "state": {
            "_model_module": "jupyter-leaflet",
            "_model_module_version": "^0.18",
            "_model_name": "LeafletFullScreenControlModel",
            "_view_count": null,
            "_view_module": "jupyter-leaflet",
            "_view_module_version": "^0.18",
            "_view_name": "LeafletFullScreenControlView",
            "options": [
              "position"
            ],
            "position": "topleft"
          }
        },
        "6c1c810d4e08444d885b61a035a2c672": {
          "model_module": "jupyter-leaflet",
          "model_name": "LeafletDrawControlModel",
          "model_module_version": "^0.18",
          "state": {
            "_model_module": "jupyter-leaflet",
            "_model_module_version": "^0.18",
            "_model_name": "LeafletDrawControlModel",
            "_view_count": null,
            "_view_module": "jupyter-leaflet",
            "_view_module_version": "^0.18",
            "_view_name": "LeafletDrawControlView",
            "circle": {},
            "circlemarker": {},
            "data": [],
            "edit": true,
            "marker": {
              "shapeOptions": {
                "color": "#3388ff"
              }
            },
            "options": [
              "position"
            ],
            "polygon": {
              "shapeOptions": {}
            },
            "polyline": {
              "shapeOptions": {}
            },
            "position": "topleft",
            "rectangle": {
              "shapeOptions": {
                "color": "#3388ff"
              }
            },
            "remove": true
          }
        },
        "e332b48250744b0bbc6a17943285ed8c": {
          "model_module": "jupyter-leaflet",
          "model_name": "LeafletScaleControlModel",
          "model_module_version": "^0.18",
          "state": {
            "_model_module": "jupyter-leaflet",
            "_model_module_version": "^0.18",
            "_model_name": "LeafletScaleControlModel",
            "_view_count": null,
            "_view_module": "jupyter-leaflet",
            "_view_module_version": "^0.18",
            "_view_name": "LeafletScaleControlView",
            "imperial": true,
            "max_width": 100,
            "metric": true,
            "options": [
              "imperial",
              "max_width",
              "metric",
              "position",
              "update_when_idle"
            ],
            "position": "bottomleft",
            "update_when_idle": false
          }
        },
        "b09557c9eebe4b2cb793d6357ae2dfe1": {
          "model_module": "jupyter-leaflet",
          "model_name": "LeafletMeasureControlModel",
          "model_module_version": "^0.18",
          "state": {
            "_custom_units": {},
            "_model_module": "jupyter-leaflet",
            "_model_module_version": "^0.18",
            "_model_name": "LeafletMeasureControlModel",
            "_view_count": null,
            "_view_module": "jupyter-leaflet",
            "_view_module_version": "^0.18",
            "_view_name": "LeafletMeasureControlView",
            "active_color": "orange",
            "capture_z_index": 10000,
            "completed_color": "#C8F2BE",
            "options": [
              "active_color",
              "capture_z_index",
              "completed_color",
              "popup_options",
              "position",
              "primary_area_unit",
              "primary_length_unit",
              "secondary_area_unit",
              "secondary_length_unit"
            ],
            "popup_options": {
              "className": "leaflet-measure-resultpopup",
              "autoPanPadding": [
                10,
                10
              ]
            },
            "position": "bottomleft",
            "primary_area_unit": "acres",
            "primary_length_unit": "kilometers",
            "secondary_area_unit": null,
            "secondary_length_unit": null
          }
        },
        "418da5877f394c5ab8389b7cf77ed379": {
          "model_module": "jupyter-leaflet",
          "model_name": "LeafletWidgetControlModel",
          "model_module_version": "^0.18",
          "state": {
            "_model_module": "jupyter-leaflet",
            "_model_module_version": "^0.18",
            "_model_name": "LeafletWidgetControlModel",
            "_view_count": null,
            "_view_module": "jupyter-leaflet",
            "_view_module_version": "^0.18",
            "_view_name": "LeafletWidgetControlView",
            "max_height": null,
            "max_width": null,
            "min_height": null,
            "min_width": null,
            "options": [
              "position",
              "transparent_bg"
            ],
            "position": "topright",
            "transparent_bg": false,
            "widget": "IPY_MODEL_d08ff70b80274f389f7a4937508c16f8"
          }
        },
        "25da57f1b4c14d44ae185a532d508f8b": {
          "model_module": "jupyter-leaflet",
          "model_name": "LeafletAttributionControlModel",
          "model_module_version": "^0.18",
          "state": {
            "_model_module": "jupyter-leaflet",
            "_model_module_version": "^0.18",
            "_model_name": "LeafletAttributionControlModel",
            "_view_count": null,
            "_view_module": "jupyter-leaflet",
            "_view_module_version": "^0.18",
            "_view_name": "LeafletAttributionControlView",
            "options": [
              "position",
              "prefix"
            ],
            "position": "bottomright",
            "prefix": "ipyleaflet"
          }
        },
        "fa7cd777a11d4a2db8df1db1cfbc6c62": {
          "model_module": "jupyter-leaflet",
          "model_name": "LeafletMapStyleModel",
          "model_module_version": "^0.18",
          "state": {
            "_model_module": "jupyter-leaflet",
            "_model_module_version": "^0.18",
            "_model_name": "LeafletMapStyleModel",
            "_view_count": null,
            "_view_module": "@jupyter-widgets/base",
            "_view_module_version": "1.2.0",
            "_view_name": "StyleView",
            "cursor": "grab"
          }
        },
        "a6489a1693c045c8a72b3a992bf0a085": {
          "model_module": "jupyter-leaflet",
          "model_name": "LeafletMapStyleModel",
          "model_module_version": "^0.18",
          "state": {
            "_model_module": "jupyter-leaflet",
            "_model_module_version": "^0.18",
            "_model_name": "LeafletMapStyleModel",
            "_view_count": null,
            "_view_module": "@jupyter-widgets/base",
            "_view_module_version": "1.2.0",
            "_view_name": "StyleView",
            "cursor": "move"
          }
        },
        "ea81e6a163c8476ab2f618fd5fe039b0": {
          "model_module": "jupyter-leaflet",
          "model_name": "LeafletTileLayerModel",
          "model_module_version": "^0.18",
          "state": {
            "_model_module": "jupyter-leaflet",
            "_model_module_version": "^0.18",
            "_model_name": "LeafletTileLayerModel",
            "_view_count": null,
            "_view_module": "jupyter-leaflet",
            "_view_module_version": "^0.18",
            "_view_name": "LeafletTileLayerView",
            "attribution": "&copy; <a href=\"https://www.openstreetmap.org/copyright\">OpenStreetMap</a> contributors",
            "base": true,
            "bottom": true,
            "bounds": null,
            "detect_retina": false,
            "loading": false,
            "max_native_zoom": null,
            "max_zoom": 19,
            "min_native_zoom": null,
            "min_zoom": 1,
            "name": "OpenStreetMap.Mapnik",
            "no_wrap": false,
            "opacity": 1,
            "options": [
              "attribution",
              "bounds",
              "detect_retina",
              "max_native_zoom",
              "max_zoom",
              "min_native_zoom",
              "min_zoom",
              "no_wrap",
              "tile_size",
              "tms",
              "zoom_offset"
            ],
            "pane": "",
            "popup": null,
            "popup_max_height": null,
            "popup_max_width": 300,
            "popup_min_width": 50,
            "show_loading": false,
            "subitems": [],
            "tile_size": 256,
            "tms": false,
            "url": "https://tile.openstreetmap.org/{z}/{x}/{y}.png",
            "visible": true,
            "zoom_offset": 0
          }
        },
        "0acf952f95bf4642ad4507793ed9a597": {
          "model_module": "jupyter-leaflet",
          "model_name": "LeafletTileLayerModel",
          "model_module_version": "^0.18",
          "state": {
            "_model_module": "jupyter-leaflet",
            "_model_module_version": "^0.18",
            "_model_name": "LeafletTileLayerModel",
            "_view_count": null,
            "_view_module": "jupyter-leaflet",
            "_view_module_version": "^0.18",
            "_view_name": "LeafletTileLayerView",
            "attribution": "Esri",
            "base": false,
            "bottom": true,
            "bounds": null,
            "detect_retina": false,
            "loading": false,
            "max_native_zoom": null,
            "max_zoom": 24,
            "min_native_zoom": null,
            "min_zoom": 0,
            "name": "Esri.WorldImagery",
            "no_wrap": false,
            "opacity": 1,
            "options": [
              "attribution",
              "bounds",
              "detect_retina",
              "max_native_zoom",
              "max_zoom",
              "min_native_zoom",
              "min_zoom",
              "no_wrap",
              "tile_size",
              "tms",
              "zoom_offset"
            ],
            "pane": "",
            "popup": null,
            "popup_max_height": null,
            "popup_max_width": 300,
            "popup_min_width": 50,
            "show_loading": false,
            "subitems": [],
            "tile_size": 256,
            "tms": false,
            "url": "https://server.arcgisonline.com/ArcGIS/rest/services/World_Imagery/MapServer/tile/{z}/{y}/{x}",
            "visible": true,
            "zoom_offset": 0
          }
        },
        "65eda3863c854fac8b74ed3c57ed9301": {
          "model_module": "jupyter-leaflet",
          "model_name": "LeafletTileLayerModel",
          "model_module_version": "^0.18",
          "state": {
            "_model_module": "jupyter-leaflet",
            "_model_module_version": "^0.18",
            "_model_name": "LeafletTileLayerModel",
            "_view_count": null,
            "_view_module": "jupyter-leaflet",
            "_view_module_version": "^0.18",
            "_view_name": "LeafletTileLayerView",
            "attribution": "Google Earth Engine",
            "base": false,
            "bottom": true,
            "bounds": null,
            "detect_retina": false,
            "loading": false,
            "max_native_zoom": null,
            "max_zoom": 24,
            "min_native_zoom": null,
            "min_zoom": 0,
            "name": "Layer 1",
            "no_wrap": false,
            "opacity": 0.75,
            "options": [
              "attribution",
              "bounds",
              "detect_retina",
              "max_native_zoom",
              "max_zoom",
              "min_native_zoom",
              "min_zoom",
              "no_wrap",
              "tile_size",
              "tms",
              "zoom_offset"
            ],
            "pane": "",
            "popup": null,
            "popup_max_height": null,
            "popup_max_width": 300,
            "popup_min_width": 50,
            "show_loading": false,
            "subitems": [],
            "tile_size": 256,
            "tms": false,
            "url": "https://earthengine.googleapis.com/v1/projects/earthengine-legacy/maps/d52415410914221080619bf691ab2b73-03d6c55dabe5e7e08ca7873d1ff96cc7/tiles/{z}/{x}/{y}",
            "visible": true,
            "zoom_offset": 0
          }
        },
        "1c6734d517554c0eba1bc8e228e0a841": {
          "model_module": "jupyter-leaflet",
          "model_name": "LeafletTileLayerModel",
          "model_module_version": "^0.18",
          "state": {
            "_model_module": "jupyter-leaflet",
            "_model_module_version": "^0.18",
            "_model_name": "LeafletTileLayerModel",
            "_view_count": null,
            "_view_module": "jupyter-leaflet",
            "_view_module_version": "^0.18",
            "_view_name": "LeafletTileLayerView",
            "attribution": "Google Earth Engine",
            "base": false,
            "bottom": true,
            "bounds": null,
            "detect_retina": false,
            "loading": false,
            "max_native_zoom": null,
            "max_zoom": 24,
            "min_native_zoom": null,
            "min_zoom": 0,
            "name": "Active Fires:FIRMS",
            "no_wrap": false,
            "opacity": 1,
            "options": [
              "attribution",
              "bounds",
              "detect_retina",
              "max_native_zoom",
              "max_zoom",
              "min_native_zoom",
              "min_zoom",
              "no_wrap",
              "tile_size",
              "tms",
              "zoom_offset"
            ],
            "pane": "",
            "popup": null,
            "popup_max_height": null,
            "popup_max_width": 300,
            "popup_min_width": 50,
            "show_loading": false,
            "subitems": [],
            "tile_size": 256,
            "tms": false,
            "url": "https://earthengine.googleapis.com/v1/projects/earthengine-legacy/maps/27631f8e5890714ed4306d7152bf6c61-7b4397c141f05bec8abcf16df4c2cea1/tiles/{z}/{x}/{y}",
            "visible": true,
            "zoom_offset": 0
          }
        },
        "7ce17d9dc832404cba53d0baa7843520": {
          "model_module": "@jupyter-widgets/base",
          "model_name": "LayoutModel",
          "model_module_version": "1.2.0",
          "state": {
            "_model_module": "@jupyter-widgets/base",
            "_model_module_version": "1.2.0",
            "_model_name": "LayoutModel",
            "_view_count": null,
            "_view_module": "@jupyter-widgets/base",
            "_view_module_version": "1.2.0",
            "_view_name": "LayoutView",
            "align_content": null,
            "align_items": null,
            "align_self": null,
            "border": null,
            "bottom": null,
            "display": null,
            "flex": null,
            "flex_flow": null,
            "grid_area": null,
            "grid_auto_columns": null,
            "grid_auto_flow": null,
            "grid_auto_rows": null,
            "grid_column": null,
            "grid_gap": null,
            "grid_row": null,
            "grid_template_areas": null,
            "grid_template_columns": null,
            "grid_template_rows": null,
            "height": "600px",
            "justify_content": null,
            "justify_items": null,
            "left": null,
            "margin": null,
            "max_height": null,
            "max_width": null,
            "min_height": null,
            "min_width": null,
            "object_fit": null,
            "object_position": null,
            "order": null,
            "overflow": null,
            "overflow_x": null,
            "overflow_y": null,
            "padding": null,
            "right": null,
            "top": null,
            "visibility": null,
            "width": null
          }
        },
        "ef6d698f20be4b15a53886b7f052fc1e": {
          "model_module": "jupyter-leaflet",
          "model_name": "LeafletMapStyleModel",
          "model_module_version": "^0.18",
          "state": {
            "_model_module": "jupyter-leaflet",
            "_model_module_version": "^0.18",
            "_model_name": "LeafletMapStyleModel",
            "_view_count": null,
            "_view_module": "@jupyter-widgets/base",
            "_view_module_version": "1.2.0",
            "_view_name": "StyleView",
            "cursor": "grab"
          }
        },
        "c65a0a0c729441f18bcda70147a6dea8": {
          "model_module": "@jupyter-widgets/controls",
          "model_name": "HBoxModel",
          "model_module_version": "1.5.0",
          "state": {
            "_dom_classes": [
              "geemap-colab"
            ],
            "_model_module": "@jupyter-widgets/controls",
            "_model_module_version": "1.5.0",
            "_model_name": "HBoxModel",
            "_view_count": null,
            "_view_module": "@jupyter-widgets/controls",
            "_view_module_version": "1.5.0",
            "_view_name": "HBoxView",
            "box_style": "",
            "children": [
              "IPY_MODEL_87231112c0f74e2fa0977f9db4c4cac4"
            ],
            "layout": "IPY_MODEL_e8d37b48407f448392d011d14dd7957e"
          }
        },
        "d08ff70b80274f389f7a4937508c16f8": {
          "model_module": "@jupyter-widgets/controls",
          "model_name": "VBoxModel",
          "model_module_version": "1.5.0",
          "state": {
            "_dom_classes": [
              "geemap-colab"
            ],
            "_model_module": "@jupyter-widgets/controls",
            "_model_module_version": "1.5.0",
            "_model_name": "VBoxModel",
            "_view_count": null,
            "_view_module": "@jupyter-widgets/controls",
            "_view_module_version": "1.5.0",
            "_view_name": "VBoxView",
            "box_style": "",
            "children": [
              "IPY_MODEL_35ea121b8653437a91b750510f871366"
            ],
            "layout": "IPY_MODEL_025e4b92a04546b2a656476875436264"
          }
        },
        "87231112c0f74e2fa0977f9db4c4cac4": {
          "model_module": "@jupyter-widgets/controls",
          "model_name": "ToggleButtonModel",
          "model_module_version": "1.5.0",
          "state": {
            "_dom_classes": [],
            "_model_module": "@jupyter-widgets/controls",
            "_model_module_version": "1.5.0",
            "_model_name": "ToggleButtonModel",
            "_view_count": null,
            "_view_module": "@jupyter-widgets/controls",
            "_view_module_version": "1.5.0",
            "_view_name": "ToggleButtonView",
            "button_style": "",
            "description": "",
            "description_tooltip": null,
            "disabled": false,
            "icon": "globe",
            "layout": "IPY_MODEL_f7114f63fdb543fa926fd9290cc277ed",
            "style": "IPY_MODEL_30fef4d67cfb4de2b0a0fd81460ce0ac",
            "tooltip": "Search location/data",
            "value": false
          }
        },
        "e8d37b48407f448392d011d14dd7957e": {
          "model_module": "@jupyter-widgets/base",
          "model_name": "LayoutModel",
          "model_module_version": "1.2.0",
          "state": {
            "_model_module": "@jupyter-widgets/base",
            "_model_module_version": "1.2.0",
            "_model_name": "LayoutModel",
            "_view_count": null,
            "_view_module": "@jupyter-widgets/base",
            "_view_module_version": "1.2.0",
            "_view_name": "LayoutView",
            "align_content": null,
            "align_items": null,
            "align_self": null,
            "border": null,
            "bottom": null,
            "display": null,
            "flex": null,
            "flex_flow": null,
            "grid_area": null,
            "grid_auto_columns": null,
            "grid_auto_flow": null,
            "grid_auto_rows": null,
            "grid_column": null,
            "grid_gap": null,
            "grid_row": null,
            "grid_template_areas": null,
            "grid_template_columns": null,
            "grid_template_rows": null,
            "height": null,
            "justify_content": null,
            "justify_items": null,
            "left": null,
            "margin": null,
            "max_height": null,
            "max_width": null,
            "min_height": null,
            "min_width": null,
            "object_fit": null,
            "object_position": null,
            "order": null,
            "overflow": null,
            "overflow_x": null,
            "overflow_y": null,
            "padding": null,
            "right": null,
            "top": null,
            "visibility": null,
            "width": null
          }
        },
        "35ea121b8653437a91b750510f871366": {
          "model_module": "@jupyter-widgets/controls",
          "model_name": "ToggleButtonModel",
          "model_module_version": "1.5.0",
          "state": {
            "_dom_classes": [],
            "_model_module": "@jupyter-widgets/controls",
            "_model_module_version": "1.5.0",
            "_model_name": "ToggleButtonModel",
            "_view_count": null,
            "_view_module": "@jupyter-widgets/controls",
            "_view_module_version": "1.5.0",
            "_view_name": "ToggleButtonView",
            "button_style": "",
            "description": "",
            "description_tooltip": null,
            "disabled": false,
            "icon": "wrench",
            "layout": "IPY_MODEL_ef03b66ff255437daabee818d52466cd",
            "style": "IPY_MODEL_a4325e168d5e4f16b94ba708aca008f3",
            "tooltip": "Toolbar",
            "value": false
          }
        },
        "025e4b92a04546b2a656476875436264": {
          "model_module": "@jupyter-widgets/base",
          "model_name": "LayoutModel",
          "model_module_version": "1.2.0",
          "state": {
            "_model_module": "@jupyter-widgets/base",
            "_model_module_version": "1.2.0",
            "_model_name": "LayoutModel",
            "_view_count": null,
            "_view_module": "@jupyter-widgets/base",
            "_view_module_version": "1.2.0",
            "_view_name": "LayoutView",
            "align_content": null,
            "align_items": null,
            "align_self": null,
            "border": null,
            "bottom": null,
            "display": null,
            "flex": null,
            "flex_flow": null,
            "grid_area": null,
            "grid_auto_columns": null,
            "grid_auto_flow": null,
            "grid_auto_rows": null,
            "grid_column": null,
            "grid_gap": null,
            "grid_row": null,
            "grid_template_areas": null,
            "grid_template_columns": null,
            "grid_template_rows": null,
            "height": null,
            "justify_content": null,
            "justify_items": null,
            "left": null,
            "margin": null,
            "max_height": null,
            "max_width": null,
            "min_height": null,
            "min_width": null,
            "object_fit": null,
            "object_position": null,
            "order": null,
            "overflow": null,
            "overflow_x": null,
            "overflow_y": null,
            "padding": null,
            "right": null,
            "top": null,
            "visibility": null,
            "width": null
          }
        },
        "f7114f63fdb543fa926fd9290cc277ed": {
          "model_module": "@jupyter-widgets/base",
          "model_name": "LayoutModel",
          "model_module_version": "1.2.0",
          "state": {
            "_model_module": "@jupyter-widgets/base",
            "_model_module_version": "1.2.0",
            "_model_name": "LayoutModel",
            "_view_count": null,
            "_view_module": "@jupyter-widgets/base",
            "_view_module_version": "1.2.0",
            "_view_name": "LayoutView",
            "align_content": null,
            "align_items": null,
            "align_self": null,
            "border": null,
            "bottom": null,
            "display": null,
            "flex": null,
            "flex_flow": null,
            "grid_area": null,
            "grid_auto_columns": null,
            "grid_auto_flow": null,
            "grid_auto_rows": null,
            "grid_column": null,
            "grid_gap": null,
            "grid_row": null,
            "grid_template_areas": null,
            "grid_template_columns": null,
            "grid_template_rows": null,
            "height": "28px",
            "justify_content": null,
            "justify_items": null,
            "left": null,
            "margin": null,
            "max_height": null,
            "max_width": null,
            "min_height": null,
            "min_width": null,
            "object_fit": null,
            "object_position": null,
            "order": null,
            "overflow": null,
            "overflow_x": null,
            "overflow_y": null,
            "padding": "0px 0px 0px 4px",
            "right": null,
            "top": null,
            "visibility": null,
            "width": "28px"
          }
        },
        "30fef4d67cfb4de2b0a0fd81460ce0ac": {
          "model_module": "@jupyter-widgets/controls",
          "model_name": "DescriptionStyleModel",
          "model_module_version": "1.5.0",
          "state": {
            "_model_module": "@jupyter-widgets/controls",
            "_model_module_version": "1.5.0",
            "_model_name": "DescriptionStyleModel",
            "_view_count": null,
            "_view_module": "@jupyter-widgets/base",
            "_view_module_version": "1.2.0",
            "_view_name": "StyleView",
            "description_width": ""
          }
        },
        "ef03b66ff255437daabee818d52466cd": {
          "model_module": "@jupyter-widgets/base",
          "model_name": "LayoutModel",
          "model_module_version": "1.2.0",
          "state": {
            "_model_module": "@jupyter-widgets/base",
            "_model_module_version": "1.2.0",
            "_model_name": "LayoutModel",
            "_view_count": null,
            "_view_module": "@jupyter-widgets/base",
            "_view_module_version": "1.2.0",
            "_view_name": "LayoutView",
            "align_content": null,
            "align_items": null,
            "align_self": null,
            "border": null,
            "bottom": null,
            "display": null,
            "flex": null,
            "flex_flow": null,
            "grid_area": null,
            "grid_auto_columns": null,
            "grid_auto_flow": null,
            "grid_auto_rows": null,
            "grid_column": null,
            "grid_gap": null,
            "grid_row": null,
            "grid_template_areas": null,
            "grid_template_columns": null,
            "grid_template_rows": null,
            "height": "28px",
            "justify_content": null,
            "justify_items": null,
            "left": null,
            "margin": null,
            "max_height": null,
            "max_width": null,
            "min_height": null,
            "min_width": null,
            "object_fit": null,
            "object_position": null,
            "order": null,
            "overflow": null,
            "overflow_x": null,
            "overflow_y": null,
            "padding": "0px 0px 0px 4px",
            "right": null,
            "top": null,
            "visibility": null,
            "width": "28px"
          }
        },
        "a4325e168d5e4f16b94ba708aca008f3": {
          "model_module": "@jupyter-widgets/controls",
          "model_name": "DescriptionStyleModel",
          "model_module_version": "1.5.0",
          "state": {
            "_model_module": "@jupyter-widgets/controls",
            "_model_module_version": "1.5.0",
            "_model_name": "DescriptionStyleModel",
            "_view_count": null,
            "_view_module": "@jupyter-widgets/base",
            "_view_module_version": "1.2.0",
            "_view_name": "StyleView",
            "description_width": ""
          }
        }
      }
    }
  },
  "nbformat": 4,
  "nbformat_minor": 5
}